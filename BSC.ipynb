{
 "cells": [
  {
   "cell_type": "code",
   "execution_count": 192,
   "id": "7ce785d8",
   "metadata": {
    "pycharm": {
     "name": "#%%\n"
    }
   },
   "outputs": [],
   "source": [
    "import numpy as np\n",
    "from sklearn import svm\n",
    "from sklearn.model_selection import train_test_split\n",
    "from sklearn.metrics import classification_report\n",
    "from sklearn.linear_model import LogisticRegression"
   ]
  },
  {
   "cell_type": "code",
   "execution_count": 193,
   "id": "fcfc8cb9",
   "metadata": {
    "pycharm": {
     "name": "#%%\n"
    }
   },
   "outputs": [],
   "source": [
    "def base_line(signal, length):\n",
    "    base = signal[0:length]\n",
    "    signal = signal - np.sum(base)\n",
    "    return signal"
   ]
  },
  {
   "cell_type": "code",
   "execution_count": 194,
   "id": "410828b8",
   "metadata": {},
   "outputs": [],
   "source": [
    "def fourier(signal):\n",
    "    N = len(signal)\n",
    "    n = np.arange(N)\n",
    "    k = n.reshape(N, 1)\n",
    "    t = n / N\n",
    "    e = np.exp(-2j * np.pi * k * t)\n",
    "    X = np.dot(e, signal)\n",
    "    return X"
   ]
  },
  {
   "cell_type": "code",
   "execution_count": 195,
   "id": "447850ce",
   "metadata": {
    "pycharm": {
     "name": "#%%\n"
    }
   },
   "outputs": [],
   "source": [
    "sample_rate = 100\n",
    "num_channels = 59\n",
    "path =\"F:\\College\\Seventh\\BCI\\Assignments\\Project\\BCICIV_1_asc\""
   ]
  },
  {
   "cell_type": "markdown",
   "id": "250a209a",
   "metadata": {},
   "source": [
    "first person"
   ]
  },
  {
   "cell_type": "code",
   "execution_count": 196,
   "id": "d0802d9f",
   "metadata": {
    "pycharm": {
     "name": "#%%\n"
    }
   },
   "outputs": [],
   "source": [
    "cnt_file = open(path+'/BCICIV_calib_ds1a_cnt.txt', 'r')\n",
    "cnt = cnt_file.read()\n",
    "cnt = cnt.split()\n",
    "temp = []\n",
    "for i in cnt:\n",
    "    temp.append(float(i))\n",
    "cnt = temp"
   ]
  },
  {
   "cell_type": "code",
   "execution_count": 197,
   "id": "20840be6",
   "metadata": {
    "pycharm": {
     "name": "#%%\n"
    }
   },
   "outputs": [],
   "source": [
    "time = len(cnt)/num_channels\n",
    "cnt = np.array(cnt)\n",
    "cnt = cnt.reshape(int(time), num_channels)"
   ]
  },
  {
   "cell_type": "code",
   "execution_count": 198,
   "id": "334a9009",
   "metadata": {
    "pycharm": {
     "name": "#%%\n"
    }
   },
   "outputs": [],
   "source": [
    "with open(path + '/BCICIV_calib_ds1a_mrk.txt') as file:\n",
    "    mrk = [line.rstrip() for line in file]\n",
    "pos = []\n",
    "labels = []\n",
    "temp1 = []\n",
    "temp2 = []\n",
    "for i in mrk:\n",
    "    temp1 = i.split()\n",
    "    temp2.append(temp1)\n",
    "mrk = temp2\n",
    "for i in range(len(mrk)):\n",
    "    pos.append(float(mrk[i][0]))\n",
    "    labels.append(float(mrk[i][1]))\n",
    "pos = np.array(pos)\n",
    "labels = np.array(labels)"
   ]
  },
  {
   "cell_type": "code",
   "execution_count": 199,
   "id": "a1330169",
   "metadata": {
    "pycharm": {
     "name": "#%%\n"
    }
   },
   "outputs": [
    {
     "name": "stdout",
     "output_type": "stream",
     "text": [
      "199\n"
     ]
    }
   ],
   "source": [
    "labels = np.array(labels)\n",
    "labels = labels[:199]\n",
    "print(len(labels))"
   ]
  },
  {
   "cell_type": "code",
   "execution_count": 200,
   "id": "670479cc",
   "metadata": {
    "pycharm": {
     "name": "#%%\n"
    }
   },
   "outputs": [],
   "source": [
    "#cnt_trials = cnt.reshape(197,-1,59)"
   ]
  },
  {
   "cell_type": "code",
   "execution_count": 201,
   "id": "e2b05fba",
   "metadata": {
    "pycharm": {
     "name": "#%%\n"
    }
   },
   "outputs": [
    {
     "data": {
      "text/plain": "(190594, 59)"
     },
     "execution_count": 201,
     "metadata": {},
     "output_type": "execute_result"
    }
   ],
   "source": [
    "cnt.shape"
   ]
  },
  {
   "cell_type": "code",
   "execution_count": 202,
   "id": "a1f1038a",
   "metadata": {
    "pycharm": {
     "name": "#%%\n"
    }
   },
   "outputs": [
    {
     "data": {
      "text/plain": "952.97"
     },
     "execution_count": 202,
     "metadata": {},
     "output_type": "execute_result"
    }
   ],
   "source": [
    "len(cnt)/200"
   ]
  },
  {
   "cell_type": "code",
   "execution_count": 203,
   "id": "bd135436",
   "metadata": {
    "pycharm": {
     "name": "#%%\n"
    }
   },
   "outputs": [
    {
     "name": "stdout",
     "output_type": "stream",
     "text": [
      "(59, 190594)\n"
     ]
    }
   ],
   "source": [
    "cnt=cnt.reshape(59,-1)\n",
    "print(cnt.shape)"
   ]
  },
  {
   "cell_type": "code",
   "execution_count": 204,
   "id": "9604da71",
   "metadata": {
    "pycharm": {
     "name": "#%%\n"
    }
   },
   "outputs": [
    {
     "name": "stdout",
     "output_type": "stream",
     "text": [
      "953.0\n"
     ]
    }
   ],
   "source": [
    "print(190600/200)"
   ]
  },
  {
   "cell_type": "code",
   "execution_count": 205,
   "id": "e3096f8e",
   "metadata": {
    "pycharm": {
     "name": "#%%\n"
    }
   },
   "outputs": [
    {
     "name": "stdout",
     "output_type": "stream",
     "text": [
      "(199, 59, 953)\n"
     ]
    }
   ],
   "source": [
    "trials=np.empty([199,59,953])\n",
    "print(trials.shape)\n",
    "for i in range(0,199):\n",
    "    dum=[]\n",
    "    dum.append(cnt[:,0+(i*953):953*(i+1)])\n",
    "    trials[i]=np.array(dum)"
   ]
  },
  {
   "cell_type": "code",
   "execution_count": 206,
   "id": "a28c96f8",
   "metadata": {
    "pycharm": {
     "name": "#%%\n"
    }
   },
   "outputs": [],
   "source": [
    "t=np.array(trials)\n",
    "for i in range(199):\n",
    "    trials[i]=base_line(trials[i],253)"
   ]
  },
  {
   "cell_type": "code",
   "execution_count": 207,
   "id": "bf2f7b7e",
   "metadata": {},
   "outputs": [],
   "source": [
    "stim_data = trials[:, 0:50]\n",
    "stim_avg = np.sum(stim_data, axis=1) / stim_data.shape[1]"
   ]
  },
  {
   "cell_type": "code",
   "execution_count": 208,
   "id": "bb1ef36c",
   "metadata": {},
   "outputs": [],
   "source": [
    "stimloused = []\n",
    "for i in range(199):\n",
    "    dum = [stim_avg[i]] * 59\n",
    "    stimloused.append(dum)"
   ]
  },
  {
   "cell_type": "code",
   "execution_count": 209,
   "id": "e7b58b17",
   "metadata": {},
   "outputs": [
    {
     "data": {
      "text/plain": "(199, 59, 953)"
     },
     "execution_count": 209,
     "metadata": {},
     "output_type": "execute_result"
    }
   ],
   "source": [
    "stimloused = np.array(stimloused)\n",
    "stimloused.shape"
   ]
  },
  {
   "cell_type": "code",
   "execution_count": 210,
   "id": "54384548",
   "metadata": {},
   "outputs": [
    {
     "data": {
      "text/plain": "(199, 59, 953)"
     },
     "execution_count": 210,
     "metadata": {},
     "output_type": "execute_result"
    }
   ],
   "source": [
    "sub = np.subtract(trials, stimloused)\n",
    "sub.shape"
   ]
  },
  {
   "cell_type": "code",
   "execution_count": 211,
   "id": "8d4ea908",
   "metadata": {},
   "outputs": [],
   "source": [
    "final = np.sum(sub, axis=1) / sub.shape[0]"
   ]
  },
  {
   "cell_type": "code",
   "execution_count": 212,
   "id": "5305aff0",
   "metadata": {
    "pycharm": {
     "name": "#%%\n"
    }
   },
   "outputs": [],
   "source": [
    "f_x = []\n",
    "for i in range(len(final)):\n",
    "    f_x.append(fourier(final[i]))"
   ]
  },
  {
   "cell_type": "code",
   "execution_count": 213,
   "id": "1f584f2d",
   "metadata": {},
   "outputs": [],
   "source": [
    "f_x = np.array(f_x)\n",
    "mag = abs(f_x)\n",
    "power = mag**2"
   ]
  },
  {
   "cell_type": "code",
   "execution_count": 214,
   "id": "be8a1bef",
   "metadata": {},
   "outputs": [],
   "source": [
    "x_train,x_test,y_train,y_test = train_test_split(power, labels, test_size=0.2)"
   ]
  },
  {
   "cell_type": "code",
   "execution_count": 215,
   "id": "e592deb7",
   "metadata": {},
   "outputs": [
    {
     "data": {
      "text/plain": "SVC()",
      "text/html": "<style>#sk-container-id-8 {color: black;background-color: white;}#sk-container-id-8 pre{padding: 0;}#sk-container-id-8 div.sk-toggleable {background-color: white;}#sk-container-id-8 label.sk-toggleable__label {cursor: pointer;display: block;width: 100%;margin-bottom: 0;padding: 0.3em;box-sizing: border-box;text-align: center;}#sk-container-id-8 label.sk-toggleable__label-arrow:before {content: \"▸\";float: left;margin-right: 0.25em;color: #696969;}#sk-container-id-8 label.sk-toggleable__label-arrow:hover:before {color: black;}#sk-container-id-8 div.sk-estimator:hover label.sk-toggleable__label-arrow:before {color: black;}#sk-container-id-8 div.sk-toggleable__content {max-height: 0;max-width: 0;overflow: hidden;text-align: left;background-color: #f0f8ff;}#sk-container-id-8 div.sk-toggleable__content pre {margin: 0.2em;color: black;border-radius: 0.25em;background-color: #f0f8ff;}#sk-container-id-8 input.sk-toggleable__control:checked~div.sk-toggleable__content {max-height: 200px;max-width: 100%;overflow: auto;}#sk-container-id-8 input.sk-toggleable__control:checked~label.sk-toggleable__label-arrow:before {content: \"▾\";}#sk-container-id-8 div.sk-estimator input.sk-toggleable__control:checked~label.sk-toggleable__label {background-color: #d4ebff;}#sk-container-id-8 div.sk-label input.sk-toggleable__control:checked~label.sk-toggleable__label {background-color: #d4ebff;}#sk-container-id-8 input.sk-hidden--visually {border: 0;clip: rect(1px 1px 1px 1px);clip: rect(1px, 1px, 1px, 1px);height: 1px;margin: -1px;overflow: hidden;padding: 0;position: absolute;width: 1px;}#sk-container-id-8 div.sk-estimator {font-family: monospace;background-color: #f0f8ff;border: 1px dotted black;border-radius: 0.25em;box-sizing: border-box;margin-bottom: 0.5em;}#sk-container-id-8 div.sk-estimator:hover {background-color: #d4ebff;}#sk-container-id-8 div.sk-parallel-item::after {content: \"\";width: 100%;border-bottom: 1px solid gray;flex-grow: 1;}#sk-container-id-8 div.sk-label:hover label.sk-toggleable__label {background-color: #d4ebff;}#sk-container-id-8 div.sk-serial::before {content: \"\";position: absolute;border-left: 1px solid gray;box-sizing: border-box;top: 0;bottom: 0;left: 50%;z-index: 0;}#sk-container-id-8 div.sk-serial {display: flex;flex-direction: column;align-items: center;background-color: white;padding-right: 0.2em;padding-left: 0.2em;position: relative;}#sk-container-id-8 div.sk-item {position: relative;z-index: 1;}#sk-container-id-8 div.sk-parallel {display: flex;align-items: stretch;justify-content: center;background-color: white;position: relative;}#sk-container-id-8 div.sk-item::before, #sk-container-id-8 div.sk-parallel-item::before {content: \"\";position: absolute;border-left: 1px solid gray;box-sizing: border-box;top: 0;bottom: 0;left: 50%;z-index: -1;}#sk-container-id-8 div.sk-parallel-item {display: flex;flex-direction: column;z-index: 1;position: relative;background-color: white;}#sk-container-id-8 div.sk-parallel-item:first-child::after {align-self: flex-end;width: 50%;}#sk-container-id-8 div.sk-parallel-item:last-child::after {align-self: flex-start;width: 50%;}#sk-container-id-8 div.sk-parallel-item:only-child::after {width: 0;}#sk-container-id-8 div.sk-dashed-wrapped {border: 1px dashed gray;margin: 0 0.4em 0.5em 0.4em;box-sizing: border-box;padding-bottom: 0.4em;background-color: white;}#sk-container-id-8 div.sk-label label {font-family: monospace;font-weight: bold;display: inline-block;line-height: 1.2em;}#sk-container-id-8 div.sk-label-container {text-align: center;}#sk-container-id-8 div.sk-container {/* jupyter's `normalize.less` sets `[hidden] { display: none; }` but bootstrap.min.css set `[hidden] { display: none !important; }` so we also need the `!important` here to be able to override the default hidden behavior on the sphinx rendered scikit-learn.org. See: https://github.com/scikit-learn/scikit-learn/issues/21755 */display: inline-block !important;position: relative;}#sk-container-id-8 div.sk-text-repr-fallback {display: none;}</style><div id=\"sk-container-id-8\" class=\"sk-top-container\"><div class=\"sk-text-repr-fallback\"><pre>SVC()</pre><b>In a Jupyter environment, please rerun this cell to show the HTML representation or trust the notebook. <br />On GitHub, the HTML representation is unable to render, please try loading this page with nbviewer.org.</b></div><div class=\"sk-container\" hidden><div class=\"sk-item\"><div class=\"sk-estimator sk-toggleable\"><input class=\"sk-toggleable__control sk-hidden--visually\" id=\"sk-estimator-id-8\" type=\"checkbox\" checked><label for=\"sk-estimator-id-8\" class=\"sk-toggleable__label sk-toggleable__label-arrow\">SVC</label><div class=\"sk-toggleable__content\"><pre>SVC()</pre></div></div></div></div></div>"
     },
     "execution_count": 215,
     "metadata": {},
     "output_type": "execute_result"
    }
   ],
   "source": [
    "clf = svm.SVC(kernel='rbf')\n",
    "clf.fit(x_train,y_train)"
   ]
  },
  {
   "cell_type": "code",
   "execution_count": 216,
   "id": "d4c2b351",
   "metadata": {},
   "outputs": [],
   "source": [
    "pred = clf.predict(x_test)"
   ]
  },
  {
   "cell_type": "code",
   "execution_count": 217,
   "id": "a91cbd52",
   "metadata": {},
   "outputs": [
    {
     "name": "stdout",
     "output_type": "stream",
     "text": [
      "              precision    recall  f1-score   support\n",
      "\n",
      "        -1.0       0.54      0.32      0.40        22\n",
      "         1.0       0.44      0.67      0.53        18\n",
      "\n",
      "    accuracy                           0.48        40\n",
      "   macro avg       0.49      0.49      0.47        40\n",
      "weighted avg       0.50      0.47      0.46        40\n",
      "\n"
     ]
    }
   ],
   "source": [
    "print(classification_report(y_test,pred))"
   ]
  },
  {
   "cell_type": "markdown",
   "id": "7e561011",
   "metadata": {},
   "source": [
    "second person"
   ]
  },
  {
   "cell_type": "code",
   "execution_count": 218,
   "id": "f001d9e3",
   "metadata": {},
   "outputs": [],
   "source": [
    "cnt_file = open(path+'/BCICIV_calib_ds1b_cnt.txt', 'r')\n",
    "cnt = cnt_file.read()\n",
    "cnt = cnt.split()\n",
    "temp = []\n",
    "for i in cnt:\n",
    "    temp.append(float(i))\n",
    "cnt = temp"
   ]
  },
  {
   "cell_type": "code",
   "execution_count": 219,
   "id": "26d4b02b",
   "metadata": {},
   "outputs": [],
   "source": [
    "time = len(cnt)/num_channels\n",
    "cnt = np.array(cnt)\n",
    "cnt = cnt.reshape(int(time), num_channels)"
   ]
  },
  {
   "cell_type": "code",
   "execution_count": 220,
   "id": "d1db769b",
   "metadata": {},
   "outputs": [],
   "source": [
    "with open(path + '/BCICIV_calib_ds1b_mrk.txt') as file:\n",
    "    mrk = [line.rstrip() for line in file]\n",
    "pos = []\n",
    "labels = []\n",
    "temp1 = []\n",
    "temp2 = []\n",
    "for i in mrk:\n",
    "    temp1 = i.split()\n",
    "    temp2.append(temp1)\n",
    "mrk = temp2\n",
    "for i in range(len(mrk)):\n",
    "    pos.append(float(mrk[i][0]))\n",
    "    labels.append(float(mrk[i][1]))\n",
    "pos = np.array(pos)\n",
    "labels = np.array(labels)"
   ]
  },
  {
   "cell_type": "code",
   "execution_count": 221,
   "id": "fb17689e",
   "metadata": {},
   "outputs": [
    {
     "name": "stdout",
     "output_type": "stream",
     "text": [
      "199\n"
     ]
    }
   ],
   "source": [
    "labels = labels[:199]\n",
    "print(len(labels))"
   ]
  },
  {
   "cell_type": "code",
   "execution_count": 222,
   "id": "6c4a3d31",
   "metadata": {},
   "outputs": [],
   "source": [
    "cnt=cnt.reshape(59,-1)"
   ]
  },
  {
   "cell_type": "code",
   "execution_count": 223,
   "id": "9996cf65",
   "metadata": {},
   "outputs": [
    {
     "name": "stdout",
     "output_type": "stream",
     "text": [
      "(199, 59, 953)\n"
     ]
    }
   ],
   "source": [
    "trials=np.empty([199,59,953])\n",
    "print(trials.shape)\n",
    "for i in range(0,199):\n",
    "    dum=[]\n",
    "    dum.append(cnt[:,0+(i*953):953*(i+1)])\n",
    "    trials[i]=np.array(dum)"
   ]
  },
  {
   "cell_type": "code",
   "execution_count": 224,
   "id": "12418302",
   "metadata": {},
   "outputs": [],
   "source": [
    "t=np.array(trials)\n",
    "for i in range(199):\n",
    "    trials[i]=base_line(trials[i],253)"
   ]
  },
  {
   "cell_type": "code",
   "execution_count": 225,
   "id": "179f5a2c",
   "metadata": {},
   "outputs": [],
   "source": [
    "stim_data = trials[:, 0:50]\n",
    "stim_avg = np.sum(stim_data, axis=1) / stim_data.shape[1]"
   ]
  },
  {
   "cell_type": "code",
   "execution_count": 226,
   "id": "eb496249",
   "metadata": {},
   "outputs": [],
   "source": [
    "stimloused = []\n",
    "for i in range(199):\n",
    "    dum = [stim_avg[i]] * 59\n",
    "    stimloused.append(dum)"
   ]
  },
  {
   "cell_type": "code",
   "execution_count": 227,
   "id": "0bcd9746",
   "metadata": {},
   "outputs": [
    {
     "data": {
      "text/plain": "(199, 59, 953)"
     },
     "execution_count": 227,
     "metadata": {},
     "output_type": "execute_result"
    }
   ],
   "source": [
    "stimloused = np.array(stimloused)\n",
    "stimloused.shape"
   ]
  },
  {
   "cell_type": "code",
   "execution_count": 228,
   "id": "52f00a52",
   "metadata": {},
   "outputs": [
    {
     "data": {
      "text/plain": "(199, 59, 953)"
     },
     "execution_count": 228,
     "metadata": {},
     "output_type": "execute_result"
    }
   ],
   "source": [
    "sub = np.subtract(trials, stimloused)\n",
    "sub.shape"
   ]
  },
  {
   "cell_type": "code",
   "execution_count": 229,
   "id": "2103aa7c",
   "metadata": {},
   "outputs": [],
   "source": [
    "final = np.sum(sub, axis=1) / sub.shape[0]"
   ]
  },
  {
   "cell_type": "code",
   "execution_count": 230,
   "id": "5b9ecac5",
   "metadata": {},
   "outputs": [],
   "source": [
    "f_x = []\n",
    "for i in range(len(final)):\n",
    "    f_x.append(fourier(final[i]))"
   ]
  },
  {
   "cell_type": "code",
   "execution_count": 231,
   "id": "09edb964",
   "metadata": {},
   "outputs": [],
   "source": [
    "f_x = np.array(f_x)\n",
    "mag = abs(f_x)\n",
    "power = mag**2"
   ]
  },
  {
   "cell_type": "code",
   "execution_count": 232,
   "id": "0e1a6555",
   "metadata": {},
   "outputs": [],
   "source": [
    "x_train,x_test,y_train,y_test = train_test_split(power, labels, test_size=0.2)"
   ]
  },
  {
   "cell_type": "code",
   "execution_count": 233,
   "id": "9bfa9dd1",
   "metadata": {},
   "outputs": [
    {
     "data": {
      "text/plain": "SVC()",
      "text/html": "<style>#sk-container-id-9 {color: black;background-color: white;}#sk-container-id-9 pre{padding: 0;}#sk-container-id-9 div.sk-toggleable {background-color: white;}#sk-container-id-9 label.sk-toggleable__label {cursor: pointer;display: block;width: 100%;margin-bottom: 0;padding: 0.3em;box-sizing: border-box;text-align: center;}#sk-container-id-9 label.sk-toggleable__label-arrow:before {content: \"▸\";float: left;margin-right: 0.25em;color: #696969;}#sk-container-id-9 label.sk-toggleable__label-arrow:hover:before {color: black;}#sk-container-id-9 div.sk-estimator:hover label.sk-toggleable__label-arrow:before {color: black;}#sk-container-id-9 div.sk-toggleable__content {max-height: 0;max-width: 0;overflow: hidden;text-align: left;background-color: #f0f8ff;}#sk-container-id-9 div.sk-toggleable__content pre {margin: 0.2em;color: black;border-radius: 0.25em;background-color: #f0f8ff;}#sk-container-id-9 input.sk-toggleable__control:checked~div.sk-toggleable__content {max-height: 200px;max-width: 100%;overflow: auto;}#sk-container-id-9 input.sk-toggleable__control:checked~label.sk-toggleable__label-arrow:before {content: \"▾\";}#sk-container-id-9 div.sk-estimator input.sk-toggleable__control:checked~label.sk-toggleable__label {background-color: #d4ebff;}#sk-container-id-9 div.sk-label input.sk-toggleable__control:checked~label.sk-toggleable__label {background-color: #d4ebff;}#sk-container-id-9 input.sk-hidden--visually {border: 0;clip: rect(1px 1px 1px 1px);clip: rect(1px, 1px, 1px, 1px);height: 1px;margin: -1px;overflow: hidden;padding: 0;position: absolute;width: 1px;}#sk-container-id-9 div.sk-estimator {font-family: monospace;background-color: #f0f8ff;border: 1px dotted black;border-radius: 0.25em;box-sizing: border-box;margin-bottom: 0.5em;}#sk-container-id-9 div.sk-estimator:hover {background-color: #d4ebff;}#sk-container-id-9 div.sk-parallel-item::after {content: \"\";width: 100%;border-bottom: 1px solid gray;flex-grow: 1;}#sk-container-id-9 div.sk-label:hover label.sk-toggleable__label {background-color: #d4ebff;}#sk-container-id-9 div.sk-serial::before {content: \"\";position: absolute;border-left: 1px solid gray;box-sizing: border-box;top: 0;bottom: 0;left: 50%;z-index: 0;}#sk-container-id-9 div.sk-serial {display: flex;flex-direction: column;align-items: center;background-color: white;padding-right: 0.2em;padding-left: 0.2em;position: relative;}#sk-container-id-9 div.sk-item {position: relative;z-index: 1;}#sk-container-id-9 div.sk-parallel {display: flex;align-items: stretch;justify-content: center;background-color: white;position: relative;}#sk-container-id-9 div.sk-item::before, #sk-container-id-9 div.sk-parallel-item::before {content: \"\";position: absolute;border-left: 1px solid gray;box-sizing: border-box;top: 0;bottom: 0;left: 50%;z-index: -1;}#sk-container-id-9 div.sk-parallel-item {display: flex;flex-direction: column;z-index: 1;position: relative;background-color: white;}#sk-container-id-9 div.sk-parallel-item:first-child::after {align-self: flex-end;width: 50%;}#sk-container-id-9 div.sk-parallel-item:last-child::after {align-self: flex-start;width: 50%;}#sk-container-id-9 div.sk-parallel-item:only-child::after {width: 0;}#sk-container-id-9 div.sk-dashed-wrapped {border: 1px dashed gray;margin: 0 0.4em 0.5em 0.4em;box-sizing: border-box;padding-bottom: 0.4em;background-color: white;}#sk-container-id-9 div.sk-label label {font-family: monospace;font-weight: bold;display: inline-block;line-height: 1.2em;}#sk-container-id-9 div.sk-label-container {text-align: center;}#sk-container-id-9 div.sk-container {/* jupyter's `normalize.less` sets `[hidden] { display: none; }` but bootstrap.min.css set `[hidden] { display: none !important; }` so we also need the `!important` here to be able to override the default hidden behavior on the sphinx rendered scikit-learn.org. See: https://github.com/scikit-learn/scikit-learn/issues/21755 */display: inline-block !important;position: relative;}#sk-container-id-9 div.sk-text-repr-fallback {display: none;}</style><div id=\"sk-container-id-9\" class=\"sk-top-container\"><div class=\"sk-text-repr-fallback\"><pre>SVC()</pre><b>In a Jupyter environment, please rerun this cell to show the HTML representation or trust the notebook. <br />On GitHub, the HTML representation is unable to render, please try loading this page with nbviewer.org.</b></div><div class=\"sk-container\" hidden><div class=\"sk-item\"><div class=\"sk-estimator sk-toggleable\"><input class=\"sk-toggleable__control sk-hidden--visually\" id=\"sk-estimator-id-9\" type=\"checkbox\" checked><label for=\"sk-estimator-id-9\" class=\"sk-toggleable__label sk-toggleable__label-arrow\">SVC</label><div class=\"sk-toggleable__content\"><pre>SVC()</pre></div></div></div></div></div>"
     },
     "execution_count": 233,
     "metadata": {},
     "output_type": "execute_result"
    }
   ],
   "source": [
    "clf.fit(x_train,y_train)"
   ]
  },
  {
   "cell_type": "code",
   "execution_count": 234,
   "id": "f55c98c6",
   "metadata": {},
   "outputs": [],
   "source": [
    "pred = clf.predict(x_test)"
   ]
  },
  {
   "cell_type": "code",
   "execution_count": 235,
   "id": "e74e304a",
   "metadata": {},
   "outputs": [
    {
     "name": "stdout",
     "output_type": "stream",
     "text": [
      "              precision    recall  f1-score   support\n",
      "\n",
      "        -1.0       0.50      0.62      0.55        21\n",
      "         1.0       0.43      0.32      0.36        19\n",
      "\n",
      "    accuracy                           0.48        40\n",
      "   macro avg       0.46      0.47      0.46        40\n",
      "weighted avg       0.47      0.47      0.46        40\n",
      "\n"
     ]
    }
   ],
   "source": [
    "print(classification_report(y_test,pred))"
   ]
  },
  {
   "cell_type": "markdown",
   "id": "6624644d",
   "metadata": {},
   "source": [
    "third person"
   ]
  },
  {
   "cell_type": "code",
   "execution_count": 236,
   "id": "9601f2e6",
   "metadata": {},
   "outputs": [],
   "source": [
    "cnt_file = open(path+'/BCICIV_calib_ds1c_cnt.txt', 'r')\n",
    "cnt = cnt_file.read()\n",
    "cnt = cnt.split()\n",
    "temp = []\n",
    "for i in cnt:\n",
    "    temp.append(float(i))\n",
    "cnt = temp"
   ]
  },
  {
   "cell_type": "code",
   "execution_count": 237,
   "id": "81c51a86",
   "metadata": {},
   "outputs": [],
   "source": [
    "time = len(cnt)/num_channels\n",
    "cnt = np.array(cnt)\n",
    "cnt = cnt.reshape(int(time), num_channels)"
   ]
  },
  {
   "cell_type": "code",
   "execution_count": 238,
   "id": "ee86871c",
   "metadata": {},
   "outputs": [],
   "source": [
    "with open(path + '/BCICIV_calib_ds1c_mrk.txt') as file:\n",
    "    mrk = [line.rstrip() for line in file]\n",
    "pos = []\n",
    "labels = []\n",
    "temp1 = []\n",
    "temp2 = []\n",
    "for i in mrk:\n",
    "    temp1 = i.split()\n",
    "    temp2.append(temp1)\n",
    "mrk = temp2\n",
    "for i in range(len(mrk)):\n",
    "    pos.append(float(mrk[i][0]))\n",
    "    labels.append(float(mrk[i][1]))\n",
    "pos = np.array(pos)\n",
    "labels = np.array(labels)"
   ]
  },
  {
   "cell_type": "code",
   "execution_count": 239,
   "id": "9bdbe0ad",
   "metadata": {},
   "outputs": [
    {
     "name": "stdout",
     "output_type": "stream",
     "text": [
      "199\n"
     ]
    }
   ],
   "source": [
    "labels = labels[:199]\n",
    "print(len(labels))"
   ]
  },
  {
   "cell_type": "code",
   "execution_count": 240,
   "id": "61b1e98f",
   "metadata": {},
   "outputs": [],
   "source": [
    "cnt=cnt.reshape(59,-1)"
   ]
  },
  {
   "cell_type": "code",
   "execution_count": 241,
   "id": "86c13b6d",
   "metadata": {},
   "outputs": [
    {
     "name": "stdout",
     "output_type": "stream",
     "text": [
      "(199, 59, 953)\n"
     ]
    }
   ],
   "source": [
    "trials=np.empty([199,59,953])\n",
    "print(trials.shape)\n",
    "for i in range(0,199):\n",
    "    dum=[]\n",
    "    dum.append(cnt[:,0+(i*953):953*(i+1)])\n",
    "    trials[i]=np.array(dum)"
   ]
  },
  {
   "cell_type": "code",
   "execution_count": 242,
   "id": "5e9886b5",
   "metadata": {},
   "outputs": [],
   "source": [
    "t=np.array(trials)\n",
    "for i in range(199):\n",
    "    trials[i]=base_line(trials[i],253)"
   ]
  },
  {
   "cell_type": "code",
   "execution_count": 243,
   "id": "847fef30",
   "metadata": {},
   "outputs": [],
   "source": [
    "stim_data = trials[:, 0:50]\n",
    "stim_avg = np.sum(stim_data, axis=1) / stim_data.shape[1]"
   ]
  },
  {
   "cell_type": "code",
   "execution_count": 244,
   "id": "a505cccc",
   "metadata": {},
   "outputs": [],
   "source": [
    "stimloused = []\n",
    "for i in range(199):\n",
    "    dum = [stim_avg[i]] * 59\n",
    "    stimloused.append(dum)"
   ]
  },
  {
   "cell_type": "code",
   "execution_count": 245,
   "id": "3600c539",
   "metadata": {},
   "outputs": [
    {
     "data": {
      "text/plain": "(199, 59, 953)"
     },
     "execution_count": 245,
     "metadata": {},
     "output_type": "execute_result"
    }
   ],
   "source": [
    "stimloused = np.array(stimloused)\n",
    "stimloused.shape"
   ]
  },
  {
   "cell_type": "code",
   "execution_count": 246,
   "id": "a189e9b9",
   "metadata": {},
   "outputs": [
    {
     "data": {
      "text/plain": "(199, 59, 953)"
     },
     "execution_count": 246,
     "metadata": {},
     "output_type": "execute_result"
    }
   ],
   "source": [
    "sub = np.subtract(trials, stimloused)\n",
    "sub.shape"
   ]
  },
  {
   "cell_type": "code",
   "execution_count": 247,
   "id": "557c848d",
   "metadata": {},
   "outputs": [],
   "source": [
    "final = np.sum(sub, axis=1) / sub.shape[0]"
   ]
  },
  {
   "cell_type": "code",
   "execution_count": 248,
   "id": "0065bff6",
   "metadata": {},
   "outputs": [],
   "source": [
    "f_x = []\n",
    "for i in range(len(final)):\n",
    "    f_x.append(fourier(final[i]))"
   ]
  },
  {
   "cell_type": "code",
   "execution_count": 249,
   "id": "92eb8848",
   "metadata": {},
   "outputs": [],
   "source": [
    "f_x = np.array(f_x)\n",
    "mag = abs(f_x)\n",
    "power = mag**2"
   ]
  },
  {
   "cell_type": "code",
   "execution_count": 250,
   "id": "dbc6aed2",
   "metadata": {},
   "outputs": [],
   "source": [
    "x_train,x_test,y_train,y_test = train_test_split(power, labels, test_size=0.2)"
   ]
  },
  {
   "cell_type": "code",
   "execution_count": 251,
   "id": "55a2796b",
   "metadata": {},
   "outputs": [
    {
     "data": {
      "text/plain": "SVC()",
      "text/html": "<style>#sk-container-id-10 {color: black;background-color: white;}#sk-container-id-10 pre{padding: 0;}#sk-container-id-10 div.sk-toggleable {background-color: white;}#sk-container-id-10 label.sk-toggleable__label {cursor: pointer;display: block;width: 100%;margin-bottom: 0;padding: 0.3em;box-sizing: border-box;text-align: center;}#sk-container-id-10 label.sk-toggleable__label-arrow:before {content: \"▸\";float: left;margin-right: 0.25em;color: #696969;}#sk-container-id-10 label.sk-toggleable__label-arrow:hover:before {color: black;}#sk-container-id-10 div.sk-estimator:hover label.sk-toggleable__label-arrow:before {color: black;}#sk-container-id-10 div.sk-toggleable__content {max-height: 0;max-width: 0;overflow: hidden;text-align: left;background-color: #f0f8ff;}#sk-container-id-10 div.sk-toggleable__content pre {margin: 0.2em;color: black;border-radius: 0.25em;background-color: #f0f8ff;}#sk-container-id-10 input.sk-toggleable__control:checked~div.sk-toggleable__content {max-height: 200px;max-width: 100%;overflow: auto;}#sk-container-id-10 input.sk-toggleable__control:checked~label.sk-toggleable__label-arrow:before {content: \"▾\";}#sk-container-id-10 div.sk-estimator input.sk-toggleable__control:checked~label.sk-toggleable__label {background-color: #d4ebff;}#sk-container-id-10 div.sk-label input.sk-toggleable__control:checked~label.sk-toggleable__label {background-color: #d4ebff;}#sk-container-id-10 input.sk-hidden--visually {border: 0;clip: rect(1px 1px 1px 1px);clip: rect(1px, 1px, 1px, 1px);height: 1px;margin: -1px;overflow: hidden;padding: 0;position: absolute;width: 1px;}#sk-container-id-10 div.sk-estimator {font-family: monospace;background-color: #f0f8ff;border: 1px dotted black;border-radius: 0.25em;box-sizing: border-box;margin-bottom: 0.5em;}#sk-container-id-10 div.sk-estimator:hover {background-color: #d4ebff;}#sk-container-id-10 div.sk-parallel-item::after {content: \"\";width: 100%;border-bottom: 1px solid gray;flex-grow: 1;}#sk-container-id-10 div.sk-label:hover label.sk-toggleable__label {background-color: #d4ebff;}#sk-container-id-10 div.sk-serial::before {content: \"\";position: absolute;border-left: 1px solid gray;box-sizing: border-box;top: 0;bottom: 0;left: 50%;z-index: 0;}#sk-container-id-10 div.sk-serial {display: flex;flex-direction: column;align-items: center;background-color: white;padding-right: 0.2em;padding-left: 0.2em;position: relative;}#sk-container-id-10 div.sk-item {position: relative;z-index: 1;}#sk-container-id-10 div.sk-parallel {display: flex;align-items: stretch;justify-content: center;background-color: white;position: relative;}#sk-container-id-10 div.sk-item::before, #sk-container-id-10 div.sk-parallel-item::before {content: \"\";position: absolute;border-left: 1px solid gray;box-sizing: border-box;top: 0;bottom: 0;left: 50%;z-index: -1;}#sk-container-id-10 div.sk-parallel-item {display: flex;flex-direction: column;z-index: 1;position: relative;background-color: white;}#sk-container-id-10 div.sk-parallel-item:first-child::after {align-self: flex-end;width: 50%;}#sk-container-id-10 div.sk-parallel-item:last-child::after {align-self: flex-start;width: 50%;}#sk-container-id-10 div.sk-parallel-item:only-child::after {width: 0;}#sk-container-id-10 div.sk-dashed-wrapped {border: 1px dashed gray;margin: 0 0.4em 0.5em 0.4em;box-sizing: border-box;padding-bottom: 0.4em;background-color: white;}#sk-container-id-10 div.sk-label label {font-family: monospace;font-weight: bold;display: inline-block;line-height: 1.2em;}#sk-container-id-10 div.sk-label-container {text-align: center;}#sk-container-id-10 div.sk-container {/* jupyter's `normalize.less` sets `[hidden] { display: none; }` but bootstrap.min.css set `[hidden] { display: none !important; }` so we also need the `!important` here to be able to override the default hidden behavior on the sphinx rendered scikit-learn.org. See: https://github.com/scikit-learn/scikit-learn/issues/21755 */display: inline-block !important;position: relative;}#sk-container-id-10 div.sk-text-repr-fallback {display: none;}</style><div id=\"sk-container-id-10\" class=\"sk-top-container\"><div class=\"sk-text-repr-fallback\"><pre>SVC()</pre><b>In a Jupyter environment, please rerun this cell to show the HTML representation or trust the notebook. <br />On GitHub, the HTML representation is unable to render, please try loading this page with nbviewer.org.</b></div><div class=\"sk-container\" hidden><div class=\"sk-item\"><div class=\"sk-estimator sk-toggleable\"><input class=\"sk-toggleable__control sk-hidden--visually\" id=\"sk-estimator-id-10\" type=\"checkbox\" checked><label for=\"sk-estimator-id-10\" class=\"sk-toggleable__label sk-toggleable__label-arrow\">SVC</label><div class=\"sk-toggleable__content\"><pre>SVC()</pre></div></div></div></div></div>"
     },
     "execution_count": 251,
     "metadata": {},
     "output_type": "execute_result"
    }
   ],
   "source": [
    "clf.fit(x_train,y_train)"
   ]
  },
  {
   "cell_type": "code",
   "execution_count": 252,
   "id": "5bf43cf5",
   "metadata": {},
   "outputs": [],
   "source": [
    "pred = clf.predict(x_test)"
   ]
  },
  {
   "cell_type": "code",
   "execution_count": 253,
   "id": "e0034c69",
   "metadata": {},
   "outputs": [
    {
     "name": "stdout",
     "output_type": "stream",
     "text": [
      "              precision    recall  f1-score   support\n",
      "\n",
      "        -1.0       0.37      0.85      0.51        13\n",
      "         1.0       0.80      0.30      0.43        27\n",
      "\n",
      "    accuracy                           0.48        40\n",
      "   macro avg       0.58      0.57      0.47        40\n",
      "weighted avg       0.66      0.47      0.46        40\n",
      "\n"
     ]
    }
   ],
   "source": [
    "print(classification_report(y_test,pred))"
   ]
  },
  {
   "cell_type": "markdown",
   "id": "7e27fbfe",
   "metadata": {},
   "source": [
    "fourth person"
   ]
  },
  {
   "cell_type": "code",
   "execution_count": 254,
   "id": "9a2967e2",
   "metadata": {},
   "outputs": [],
   "source": [
    "cnt_file = open(path+'/BCICIV_calib_ds1d_cnt.txt', 'r')\n",
    "cnt = cnt_file.read()\n",
    "cnt = cnt.split()\n",
    "temp = []\n",
    "for i in cnt:\n",
    "    temp.append(float(i))\n",
    "cnt = temp"
   ]
  },
  {
   "cell_type": "code",
   "execution_count": 255,
   "id": "07258ac6",
   "metadata": {},
   "outputs": [],
   "source": [
    "time = len(cnt)/num_channels\n",
    "cnt = np.array(cnt)\n",
    "cnt = cnt.reshape(int(time), num_channels)"
   ]
  },
  {
   "cell_type": "code",
   "execution_count": 256,
   "id": "5a4f08cc",
   "metadata": {},
   "outputs": [],
   "source": [
    "with open(path + '/BCICIV_calib_ds1d_mrk.txt') as file:\n",
    "    mrk = [line.rstrip() for line in file]\n",
    "pos = []\n",
    "labels = []\n",
    "temp1 = []\n",
    "temp2 = []\n",
    "for i in mrk:\n",
    "    temp1 = i.split()\n",
    "    temp2.append(temp1)\n",
    "mrk = temp2\n",
    "for i in range(len(mrk)):\n",
    "    pos.append(float(mrk[i][0]))\n",
    "    labels.append(float(mrk[i][1]))\n",
    "pos = np.array(pos)\n",
    "labels = np.array(labels)"
   ]
  },
  {
   "cell_type": "code",
   "execution_count": 257,
   "id": "4cee6bd2",
   "metadata": {},
   "outputs": [
    {
     "name": "stdout",
     "output_type": "stream",
     "text": [
      "199\n"
     ]
    }
   ],
   "source": [
    "labels = labels[:199]\n",
    "print(len(labels))"
   ]
  },
  {
   "cell_type": "code",
   "execution_count": 258,
   "id": "6ea57eac",
   "metadata": {},
   "outputs": [],
   "source": [
    "cnt=cnt.reshape(59,-1)"
   ]
  },
  {
   "cell_type": "code",
   "execution_count": 259,
   "id": "8023b8a1",
   "metadata": {},
   "outputs": [
    {
     "name": "stdout",
     "output_type": "stream",
     "text": [
      "(199, 59, 953)\n"
     ]
    }
   ],
   "source": [
    "trials=np.empty([199,59,953])\n",
    "print(trials.shape)\n",
    "for i in range(0,199):\n",
    "    dum=[]\n",
    "    dum.append(cnt[:,0+(i*953):953*(i+1)])\n",
    "    trials[i]=np.array(dum)"
   ]
  },
  {
   "cell_type": "code",
   "execution_count": 260,
   "id": "638d7a00",
   "metadata": {},
   "outputs": [],
   "source": [
    "t=np.array(trials)\n",
    "for i in range(199):\n",
    "    trials[i]=base_line(trials[i],253)"
   ]
  },
  {
   "cell_type": "code",
   "execution_count": 261,
   "id": "65c1498a",
   "metadata": {},
   "outputs": [],
   "source": [
    "stim_data = trials[:, 0:50]\n",
    "stim_avg = np.sum(stim_data, axis=1) / stim_data.shape[1]"
   ]
  },
  {
   "cell_type": "code",
   "execution_count": 262,
   "id": "b5225fdf",
   "metadata": {},
   "outputs": [],
   "source": [
    "stimloused = []\n",
    "for i in range(199):\n",
    "    dum = [stim_avg[i]] * 59\n",
    "    stimloused.append(dum)"
   ]
  },
  {
   "cell_type": "code",
   "execution_count": 263,
   "id": "03aa1a48",
   "metadata": {},
   "outputs": [
    {
     "data": {
      "text/plain": "(199, 59, 953)"
     },
     "execution_count": 263,
     "metadata": {},
     "output_type": "execute_result"
    }
   ],
   "source": [
    "stimloused = np.array(stimloused)\n",
    "stimloused.shape"
   ]
  },
  {
   "cell_type": "code",
   "execution_count": 264,
   "id": "dcc8decd",
   "metadata": {},
   "outputs": [
    {
     "data": {
      "text/plain": "(199, 59, 953)"
     },
     "execution_count": 264,
     "metadata": {},
     "output_type": "execute_result"
    }
   ],
   "source": [
    "sub = np.subtract(trials, stimloused)\n",
    "sub.shape"
   ]
  },
  {
   "cell_type": "code",
   "execution_count": 265,
   "id": "b0d2f561",
   "metadata": {},
   "outputs": [],
   "source": [
    "final = np.sum(sub, axis=1) / sub.shape[0]"
   ]
  },
  {
   "cell_type": "code",
   "execution_count": 266,
   "id": "af5713f5",
   "metadata": {},
   "outputs": [],
   "source": [
    "f_x = []\n",
    "for i in range(len(final)):\n",
    "    f_x.append(fourier(final[i]))"
   ]
  },
  {
   "cell_type": "code",
   "execution_count": 267,
   "id": "80c0ddf4",
   "metadata": {},
   "outputs": [],
   "source": [
    "f_x = np.array(f_x)\n",
    "mag = abs(f_x)\n",
    "power = mag**2"
   ]
  },
  {
   "cell_type": "code",
   "execution_count": 268,
   "id": "3f2d9fed",
   "metadata": {},
   "outputs": [],
   "source": [
    "x_train,x_test,y_train,y_test = train_test_split(power, labels, test_size=0.2)"
   ]
  },
  {
   "cell_type": "code",
   "execution_count": 269,
   "id": "c9d17a65",
   "metadata": {},
   "outputs": [
    {
     "data": {
      "text/plain": "SVC()",
      "text/html": "<style>#sk-container-id-11 {color: black;background-color: white;}#sk-container-id-11 pre{padding: 0;}#sk-container-id-11 div.sk-toggleable {background-color: white;}#sk-container-id-11 label.sk-toggleable__label {cursor: pointer;display: block;width: 100%;margin-bottom: 0;padding: 0.3em;box-sizing: border-box;text-align: center;}#sk-container-id-11 label.sk-toggleable__label-arrow:before {content: \"▸\";float: left;margin-right: 0.25em;color: #696969;}#sk-container-id-11 label.sk-toggleable__label-arrow:hover:before {color: black;}#sk-container-id-11 div.sk-estimator:hover label.sk-toggleable__label-arrow:before {color: black;}#sk-container-id-11 div.sk-toggleable__content {max-height: 0;max-width: 0;overflow: hidden;text-align: left;background-color: #f0f8ff;}#sk-container-id-11 div.sk-toggleable__content pre {margin: 0.2em;color: black;border-radius: 0.25em;background-color: #f0f8ff;}#sk-container-id-11 input.sk-toggleable__control:checked~div.sk-toggleable__content {max-height: 200px;max-width: 100%;overflow: auto;}#sk-container-id-11 input.sk-toggleable__control:checked~label.sk-toggleable__label-arrow:before {content: \"▾\";}#sk-container-id-11 div.sk-estimator input.sk-toggleable__control:checked~label.sk-toggleable__label {background-color: #d4ebff;}#sk-container-id-11 div.sk-label input.sk-toggleable__control:checked~label.sk-toggleable__label {background-color: #d4ebff;}#sk-container-id-11 input.sk-hidden--visually {border: 0;clip: rect(1px 1px 1px 1px);clip: rect(1px, 1px, 1px, 1px);height: 1px;margin: -1px;overflow: hidden;padding: 0;position: absolute;width: 1px;}#sk-container-id-11 div.sk-estimator {font-family: monospace;background-color: #f0f8ff;border: 1px dotted black;border-radius: 0.25em;box-sizing: border-box;margin-bottom: 0.5em;}#sk-container-id-11 div.sk-estimator:hover {background-color: #d4ebff;}#sk-container-id-11 div.sk-parallel-item::after {content: \"\";width: 100%;border-bottom: 1px solid gray;flex-grow: 1;}#sk-container-id-11 div.sk-label:hover label.sk-toggleable__label {background-color: #d4ebff;}#sk-container-id-11 div.sk-serial::before {content: \"\";position: absolute;border-left: 1px solid gray;box-sizing: border-box;top: 0;bottom: 0;left: 50%;z-index: 0;}#sk-container-id-11 div.sk-serial {display: flex;flex-direction: column;align-items: center;background-color: white;padding-right: 0.2em;padding-left: 0.2em;position: relative;}#sk-container-id-11 div.sk-item {position: relative;z-index: 1;}#sk-container-id-11 div.sk-parallel {display: flex;align-items: stretch;justify-content: center;background-color: white;position: relative;}#sk-container-id-11 div.sk-item::before, #sk-container-id-11 div.sk-parallel-item::before {content: \"\";position: absolute;border-left: 1px solid gray;box-sizing: border-box;top: 0;bottom: 0;left: 50%;z-index: -1;}#sk-container-id-11 div.sk-parallel-item {display: flex;flex-direction: column;z-index: 1;position: relative;background-color: white;}#sk-container-id-11 div.sk-parallel-item:first-child::after {align-self: flex-end;width: 50%;}#sk-container-id-11 div.sk-parallel-item:last-child::after {align-self: flex-start;width: 50%;}#sk-container-id-11 div.sk-parallel-item:only-child::after {width: 0;}#sk-container-id-11 div.sk-dashed-wrapped {border: 1px dashed gray;margin: 0 0.4em 0.5em 0.4em;box-sizing: border-box;padding-bottom: 0.4em;background-color: white;}#sk-container-id-11 div.sk-label label {font-family: monospace;font-weight: bold;display: inline-block;line-height: 1.2em;}#sk-container-id-11 div.sk-label-container {text-align: center;}#sk-container-id-11 div.sk-container {/* jupyter's `normalize.less` sets `[hidden] { display: none; }` but bootstrap.min.css set `[hidden] { display: none !important; }` so we also need the `!important` here to be able to override the default hidden behavior on the sphinx rendered scikit-learn.org. See: https://github.com/scikit-learn/scikit-learn/issues/21755 */display: inline-block !important;position: relative;}#sk-container-id-11 div.sk-text-repr-fallback {display: none;}</style><div id=\"sk-container-id-11\" class=\"sk-top-container\"><div class=\"sk-text-repr-fallback\"><pre>SVC()</pre><b>In a Jupyter environment, please rerun this cell to show the HTML representation or trust the notebook. <br />On GitHub, the HTML representation is unable to render, please try loading this page with nbviewer.org.</b></div><div class=\"sk-container\" hidden><div class=\"sk-item\"><div class=\"sk-estimator sk-toggleable\"><input class=\"sk-toggleable__control sk-hidden--visually\" id=\"sk-estimator-id-11\" type=\"checkbox\" checked><label for=\"sk-estimator-id-11\" class=\"sk-toggleable__label sk-toggleable__label-arrow\">SVC</label><div class=\"sk-toggleable__content\"><pre>SVC()</pre></div></div></div></div></div>"
     },
     "execution_count": 269,
     "metadata": {},
     "output_type": "execute_result"
    }
   ],
   "source": [
    "clf.fit(x_train,y_train)"
   ]
  },
  {
   "cell_type": "code",
   "execution_count": 270,
   "id": "5b21a68c",
   "metadata": {},
   "outputs": [],
   "source": [
    "pred = clf.predict(x_test)"
   ]
  },
  {
   "cell_type": "code",
   "execution_count": 271,
   "id": "9ab8552f",
   "metadata": {},
   "outputs": [
    {
     "name": "stdout",
     "output_type": "stream",
     "text": [
      "              precision    recall  f1-score   support\n",
      "\n",
      "        -1.0       0.46      0.76      0.58        17\n",
      "         1.0       0.67      0.35      0.46        23\n",
      "\n",
      "    accuracy                           0.53        40\n",
      "   macro avg       0.57      0.56      0.52        40\n",
      "weighted avg       0.58      0.53      0.51        40\n",
      "\n"
     ]
    }
   ],
   "source": [
    "print(classification_report(y_test,pred))"
   ]
  },
  {
   "cell_type": "markdown",
   "id": "c6194561",
   "metadata": {},
   "source": [
    "fifth person"
   ]
  },
  {
   "cell_type": "code",
   "execution_count": 272,
   "id": "fa41bf87",
   "metadata": {},
   "outputs": [],
   "source": [
    "cnt_file = open(path+'/BCICIV_calib_ds1e_cnt.txt', 'r')\n",
    "cnt = cnt_file.read()\n",
    "cnt = cnt.split()\n",
    "temp = []\n",
    "for i in cnt:\n",
    "    temp.append(float(i))\n",
    "cnt = temp"
   ]
  },
  {
   "cell_type": "code",
   "execution_count": 273,
   "id": "448efeba",
   "metadata": {},
   "outputs": [],
   "source": [
    "time = len(cnt)/num_channels\n",
    "cnt = np.array(cnt)\n",
    "cnt = cnt.reshape(int(time), num_channels)"
   ]
  },
  {
   "cell_type": "code",
   "execution_count": 274,
   "id": "ee2a5a8f",
   "metadata": {},
   "outputs": [],
   "source": [
    "with open(path + '/BCICIV_calib_ds1e_mrk.txt') as file:\n",
    "    mrk = [line.rstrip() for line in file]\n",
    "pos = []\n",
    "labels = []\n",
    "temp1 = []\n",
    "temp2 = []\n",
    "for i in mrk:\n",
    "    temp1 = i.split()\n",
    "    temp2.append(temp1)\n",
    "mrk = temp2\n",
    "for i in range(len(mrk)):\n",
    "    pos.append(float(mrk[i][0]))\n",
    "    labels.append(float(mrk[i][1]))\n",
    "pos = np.array(pos)\n",
    "labels = np.array(labels)"
   ]
  },
  {
   "cell_type": "code",
   "execution_count": 275,
   "id": "2278576a",
   "metadata": {},
   "outputs": [
    {
     "name": "stdout",
     "output_type": "stream",
     "text": [
      "199\n"
     ]
    }
   ],
   "source": [
    "labels = labels[:199]\n",
    "print(len(labels))"
   ]
  },
  {
   "cell_type": "code",
   "execution_count": 276,
   "id": "65a741ab",
   "metadata": {},
   "outputs": [],
   "source": [
    "cnt=cnt.reshape(59,-1)"
   ]
  },
  {
   "cell_type": "code",
   "execution_count": 277,
   "id": "610317da",
   "metadata": {},
   "outputs": [
    {
     "name": "stdout",
     "output_type": "stream",
     "text": [
      "(199, 59, 953)\n"
     ]
    }
   ],
   "source": [
    "trials=np.empty([199,59,953])\n",
    "print(trials.shape)\n",
    "for i in range(0,199):\n",
    "    dum=[]\n",
    "    dum.append(cnt[:,0+(i*953):953*(i+1)])\n",
    "    trials[i]=np.array(dum)"
   ]
  },
  {
   "cell_type": "code",
   "execution_count": 278,
   "id": "8112d712",
   "metadata": {},
   "outputs": [],
   "source": [
    "t=np.array(trials)\n",
    "for i in range(199):\n",
    "    trials[i]=base_line(trials[i],253)"
   ]
  },
  {
   "cell_type": "code",
   "execution_count": 279,
   "id": "6b372ef3",
   "metadata": {},
   "outputs": [],
   "source": [
    "stim_data = trials[:, 0:50]\n",
    "stim_avg = np.sum(stim_data, axis=1) / stim_data.shape[1]"
   ]
  },
  {
   "cell_type": "code",
   "execution_count": 280,
   "id": "66ef5760",
   "metadata": {},
   "outputs": [],
   "source": [
    "stimloused = []\n",
    "for i in range(199):\n",
    "    dum = [stim_avg[i]] * 59\n",
    "    stimloused.append(dum)"
   ]
  },
  {
   "cell_type": "code",
   "execution_count": 281,
   "id": "08a864eb",
   "metadata": {},
   "outputs": [
    {
     "data": {
      "text/plain": "(199, 59, 953)"
     },
     "execution_count": 281,
     "metadata": {},
     "output_type": "execute_result"
    }
   ],
   "source": [
    "stimloused = np.array(stimloused)\n",
    "stimloused.shape"
   ]
  },
  {
   "cell_type": "code",
   "execution_count": 282,
   "id": "02d78da8",
   "metadata": {},
   "outputs": [
    {
     "data": {
      "text/plain": "(199, 59, 953)"
     },
     "execution_count": 282,
     "metadata": {},
     "output_type": "execute_result"
    }
   ],
   "source": [
    "sub = np.subtract(trials, stimloused)\n",
    "sub.shape"
   ]
  },
  {
   "cell_type": "code",
   "execution_count": 283,
   "id": "7e0fa384",
   "metadata": {},
   "outputs": [],
   "source": [
    "final = np.sum(sub, axis=1) / sub.shape[0]"
   ]
  },
  {
   "cell_type": "code",
   "execution_count": 284,
   "id": "0bc90507",
   "metadata": {},
   "outputs": [],
   "source": [
    "f_x = []\n",
    "for i in range(len(final)):\n",
    "    f_x.append(fourier(final[i]))"
   ]
  },
  {
   "cell_type": "code",
   "execution_count": 285,
   "id": "b794f249",
   "metadata": {},
   "outputs": [],
   "source": [
    "f_x = np.array(f_x)\n",
    "mag = abs(f_x)\n",
    "power = mag**2"
   ]
  },
  {
   "cell_type": "code",
   "execution_count": 286,
   "id": "4af77a6e",
   "metadata": {},
   "outputs": [],
   "source": [
    "x_train,x_test,y_train,y_test = train_test_split(power, labels, test_size=0.2)"
   ]
  },
  {
   "cell_type": "code",
   "execution_count": 287,
   "id": "2bd3763a",
   "metadata": {},
   "outputs": [
    {
     "data": {
      "text/plain": "SVC()",
      "text/html": "<style>#sk-container-id-12 {color: black;background-color: white;}#sk-container-id-12 pre{padding: 0;}#sk-container-id-12 div.sk-toggleable {background-color: white;}#sk-container-id-12 label.sk-toggleable__label {cursor: pointer;display: block;width: 100%;margin-bottom: 0;padding: 0.3em;box-sizing: border-box;text-align: center;}#sk-container-id-12 label.sk-toggleable__label-arrow:before {content: \"▸\";float: left;margin-right: 0.25em;color: #696969;}#sk-container-id-12 label.sk-toggleable__label-arrow:hover:before {color: black;}#sk-container-id-12 div.sk-estimator:hover label.sk-toggleable__label-arrow:before {color: black;}#sk-container-id-12 div.sk-toggleable__content {max-height: 0;max-width: 0;overflow: hidden;text-align: left;background-color: #f0f8ff;}#sk-container-id-12 div.sk-toggleable__content pre {margin: 0.2em;color: black;border-radius: 0.25em;background-color: #f0f8ff;}#sk-container-id-12 input.sk-toggleable__control:checked~div.sk-toggleable__content {max-height: 200px;max-width: 100%;overflow: auto;}#sk-container-id-12 input.sk-toggleable__control:checked~label.sk-toggleable__label-arrow:before {content: \"▾\";}#sk-container-id-12 div.sk-estimator input.sk-toggleable__control:checked~label.sk-toggleable__label {background-color: #d4ebff;}#sk-container-id-12 div.sk-label input.sk-toggleable__control:checked~label.sk-toggleable__label {background-color: #d4ebff;}#sk-container-id-12 input.sk-hidden--visually {border: 0;clip: rect(1px 1px 1px 1px);clip: rect(1px, 1px, 1px, 1px);height: 1px;margin: -1px;overflow: hidden;padding: 0;position: absolute;width: 1px;}#sk-container-id-12 div.sk-estimator {font-family: monospace;background-color: #f0f8ff;border: 1px dotted black;border-radius: 0.25em;box-sizing: border-box;margin-bottom: 0.5em;}#sk-container-id-12 div.sk-estimator:hover {background-color: #d4ebff;}#sk-container-id-12 div.sk-parallel-item::after {content: \"\";width: 100%;border-bottom: 1px solid gray;flex-grow: 1;}#sk-container-id-12 div.sk-label:hover label.sk-toggleable__label {background-color: #d4ebff;}#sk-container-id-12 div.sk-serial::before {content: \"\";position: absolute;border-left: 1px solid gray;box-sizing: border-box;top: 0;bottom: 0;left: 50%;z-index: 0;}#sk-container-id-12 div.sk-serial {display: flex;flex-direction: column;align-items: center;background-color: white;padding-right: 0.2em;padding-left: 0.2em;position: relative;}#sk-container-id-12 div.sk-item {position: relative;z-index: 1;}#sk-container-id-12 div.sk-parallel {display: flex;align-items: stretch;justify-content: center;background-color: white;position: relative;}#sk-container-id-12 div.sk-item::before, #sk-container-id-12 div.sk-parallel-item::before {content: \"\";position: absolute;border-left: 1px solid gray;box-sizing: border-box;top: 0;bottom: 0;left: 50%;z-index: -1;}#sk-container-id-12 div.sk-parallel-item {display: flex;flex-direction: column;z-index: 1;position: relative;background-color: white;}#sk-container-id-12 div.sk-parallel-item:first-child::after {align-self: flex-end;width: 50%;}#sk-container-id-12 div.sk-parallel-item:last-child::after {align-self: flex-start;width: 50%;}#sk-container-id-12 div.sk-parallel-item:only-child::after {width: 0;}#sk-container-id-12 div.sk-dashed-wrapped {border: 1px dashed gray;margin: 0 0.4em 0.5em 0.4em;box-sizing: border-box;padding-bottom: 0.4em;background-color: white;}#sk-container-id-12 div.sk-label label {font-family: monospace;font-weight: bold;display: inline-block;line-height: 1.2em;}#sk-container-id-12 div.sk-label-container {text-align: center;}#sk-container-id-12 div.sk-container {/* jupyter's `normalize.less` sets `[hidden] { display: none; }` but bootstrap.min.css set `[hidden] { display: none !important; }` so we also need the `!important` here to be able to override the default hidden behavior on the sphinx rendered scikit-learn.org. See: https://github.com/scikit-learn/scikit-learn/issues/21755 */display: inline-block !important;position: relative;}#sk-container-id-12 div.sk-text-repr-fallback {display: none;}</style><div id=\"sk-container-id-12\" class=\"sk-top-container\"><div class=\"sk-text-repr-fallback\"><pre>SVC()</pre><b>In a Jupyter environment, please rerun this cell to show the HTML representation or trust the notebook. <br />On GitHub, the HTML representation is unable to render, please try loading this page with nbviewer.org.</b></div><div class=\"sk-container\" hidden><div class=\"sk-item\"><div class=\"sk-estimator sk-toggleable\"><input class=\"sk-toggleable__control sk-hidden--visually\" id=\"sk-estimator-id-12\" type=\"checkbox\" checked><label for=\"sk-estimator-id-12\" class=\"sk-toggleable__label sk-toggleable__label-arrow\">SVC</label><div class=\"sk-toggleable__content\"><pre>SVC()</pre></div></div></div></div></div>"
     },
     "execution_count": 287,
     "metadata": {},
     "output_type": "execute_result"
    }
   ],
   "source": [
    "clf.fit(x_train,y_train)"
   ]
  },
  {
   "cell_type": "code",
   "execution_count": 288,
   "id": "67d80eb5",
   "metadata": {},
   "outputs": [],
   "source": [
    "pred = clf.predict(x_test)"
   ]
  },
  {
   "cell_type": "code",
   "execution_count": 289,
   "id": "23e4ef25",
   "metadata": {},
   "outputs": [
    {
     "name": "stdout",
     "output_type": "stream",
     "text": [
      "              precision    recall  f1-score   support\n",
      "\n",
      "        -1.0       0.45      1.00      0.62        18\n",
      "         1.0       0.00      0.00      0.00        22\n",
      "\n",
      "    accuracy                           0.45        40\n",
      "   macro avg       0.23      0.50      0.31        40\n",
      "weighted avg       0.20      0.45      0.28        40\n",
      "\n"
     ]
    },
    {
     "name": "stderr",
     "output_type": "stream",
     "text": [
      "C:\\Users\\Kagero\\AppData\\Local\\Programs\\Python\\Python310\\lib\\site-packages\\sklearn\\metrics\\_classification.py:1334: UndefinedMetricWarning: Precision and F-score are ill-defined and being set to 0.0 in labels with no predicted samples. Use `zero_division` parameter to control this behavior.\n",
      "  _warn_prf(average, modifier, msg_start, len(result))\n",
      "C:\\Users\\Kagero\\AppData\\Local\\Programs\\Python\\Python310\\lib\\site-packages\\sklearn\\metrics\\_classification.py:1334: UndefinedMetricWarning: Precision and F-score are ill-defined and being set to 0.0 in labels with no predicted samples. Use `zero_division` parameter to control this behavior.\n",
      "  _warn_prf(average, modifier, msg_start, len(result))\n",
      "C:\\Users\\Kagero\\AppData\\Local\\Programs\\Python\\Python310\\lib\\site-packages\\sklearn\\metrics\\_classification.py:1334: UndefinedMetricWarning: Precision and F-score are ill-defined and being set to 0.0 in labels with no predicted samples. Use `zero_division` parameter to control this behavior.\n",
      "  _warn_prf(average, modifier, msg_start, len(result))\n"
     ]
    }
   ],
   "source": [
    "print(classification_report(y_test,pred))"
   ]
  },
  {
   "cell_type": "markdown",
   "id": "cf31f734",
   "metadata": {},
   "source": [
    "sixth person"
   ]
  },
  {
   "cell_type": "code",
   "execution_count": 290,
   "id": "75e4e5d4",
   "metadata": {},
   "outputs": [],
   "source": [
    "cnt_file = open(path+'/BCICIV_calib_ds1f_cnt.txt', 'r')\n",
    "cnt = cnt_file.read()\n",
    "cnt = cnt.split()\n",
    "temp = []\n",
    "for i in cnt:\n",
    "    temp.append(float(i))\n",
    "cnt = temp"
   ]
  },
  {
   "cell_type": "code",
   "execution_count": 291,
   "id": "91585d4e",
   "metadata": {},
   "outputs": [],
   "source": [
    "time = len(cnt)/num_channels\n",
    "cnt = np.array(cnt)\n",
    "cnt = cnt.reshape(int(time), num_channels)"
   ]
  },
  {
   "cell_type": "code",
   "execution_count": 292,
   "id": "b2f00870",
   "metadata": {},
   "outputs": [],
   "source": [
    "with open(path + '/BCICIV_calib_ds1f_mrk.txt') as file:\n",
    "    mrk = [line.rstrip() for line in file]\n",
    "pos = []\n",
    "labels = []\n",
    "temp1 = []\n",
    "temp2 = []\n",
    "for i in mrk:\n",
    "    temp1 = i.split()\n",
    "    temp2.append(temp1)\n",
    "mrk = temp2\n",
    "for i in range(len(mrk)):\n",
    "    pos.append(float(mrk[i][0]))\n",
    "    labels.append(float(mrk[i][1]))\n",
    "pos = np.array(pos)\n",
    "labels = np.array(labels)"
   ]
  },
  {
   "cell_type": "code",
   "execution_count": 293,
   "id": "c1b01a8e",
   "metadata": {},
   "outputs": [
    {
     "name": "stdout",
     "output_type": "stream",
     "text": [
      "199\n"
     ]
    }
   ],
   "source": [
    "labels = labels[:199]\n",
    "print(len(labels))"
   ]
  },
  {
   "cell_type": "code",
   "execution_count": 294,
   "id": "0bb78bbf",
   "metadata": {},
   "outputs": [],
   "source": [
    "cnt=cnt.reshape(59,-1)"
   ]
  },
  {
   "cell_type": "code",
   "execution_count": 295,
   "id": "1d83cb19",
   "metadata": {},
   "outputs": [
    {
     "name": "stdout",
     "output_type": "stream",
     "text": [
      "(199, 59, 953)\n"
     ]
    }
   ],
   "source": [
    "trials=np.empty([199,59,953])\n",
    "print(trials.shape)\n",
    "for i in range(0,199):\n",
    "    dum=[]\n",
    "    dum.append(cnt[:,0+(i*953):953*(i+1)])\n",
    "    trials[i]=np.array(dum)"
   ]
  },
  {
   "cell_type": "code",
   "execution_count": 296,
   "id": "7031d1e7",
   "metadata": {},
   "outputs": [],
   "source": [
    "t=np.array(trials)\n",
    "for i in range(199):\n",
    "    trials[i]=base_line(trials[i],253)"
   ]
  },
  {
   "cell_type": "code",
   "execution_count": 297,
   "id": "b166a32f",
   "metadata": {},
   "outputs": [],
   "source": [
    "stim_data = trials[:, 0:50]\n",
    "stim_avg = np.sum(stim_data, axis=1) / stim_data.shape[1]"
   ]
  },
  {
   "cell_type": "code",
   "execution_count": 298,
   "id": "78e0e256",
   "metadata": {},
   "outputs": [],
   "source": [
    "stimloused = []\n",
    "for i in range(199):\n",
    "    dum = [stim_avg[i]] * 59\n",
    "    stimloused.append(dum)"
   ]
  },
  {
   "cell_type": "code",
   "execution_count": 299,
   "id": "68676dcb",
   "metadata": {},
   "outputs": [
    {
     "data": {
      "text/plain": "(199, 59, 953)"
     },
     "execution_count": 299,
     "metadata": {},
     "output_type": "execute_result"
    }
   ],
   "source": [
    "stimloused = np.array(stimloused)\n",
    "stimloused.shape"
   ]
  },
  {
   "cell_type": "code",
   "execution_count": 300,
   "id": "bc10889c",
   "metadata": {},
   "outputs": [
    {
     "data": {
      "text/plain": "(199, 59, 953)"
     },
     "execution_count": 300,
     "metadata": {},
     "output_type": "execute_result"
    }
   ],
   "source": [
    "sub = np.subtract(trials, stimloused)\n",
    "sub.shape"
   ]
  },
  {
   "cell_type": "code",
   "execution_count": 301,
   "id": "1a9f3bb9",
   "metadata": {},
   "outputs": [],
   "source": [
    "final = np.sum(sub, axis=1) / sub.shape[0]"
   ]
  },
  {
   "cell_type": "code",
   "execution_count": 302,
   "id": "af7b0cff",
   "metadata": {},
   "outputs": [],
   "source": [
    "f_x = []\n",
    "for i in range(len(final)):\n",
    "    f_x.append(fourier(final[i]))"
   ]
  },
  {
   "cell_type": "code",
   "execution_count": 303,
   "id": "10466972",
   "metadata": {},
   "outputs": [],
   "source": [
    "f_x = np.array(f_x)\n",
    "mag = abs(f_x)\n",
    "power = mag**2"
   ]
  },
  {
   "cell_type": "code",
   "execution_count": 304,
   "id": "428b1a0c",
   "metadata": {},
   "outputs": [],
   "source": [
    "x_train,x_test,y_train,y_test = train_test_split(power, labels, test_size=0.2)"
   ]
  },
  {
   "cell_type": "code",
   "execution_count": 305,
   "id": "471fa79a",
   "metadata": {},
   "outputs": [
    {
     "data": {
      "text/plain": "SVC()",
      "text/html": "<style>#sk-container-id-13 {color: black;background-color: white;}#sk-container-id-13 pre{padding: 0;}#sk-container-id-13 div.sk-toggleable {background-color: white;}#sk-container-id-13 label.sk-toggleable__label {cursor: pointer;display: block;width: 100%;margin-bottom: 0;padding: 0.3em;box-sizing: border-box;text-align: center;}#sk-container-id-13 label.sk-toggleable__label-arrow:before {content: \"▸\";float: left;margin-right: 0.25em;color: #696969;}#sk-container-id-13 label.sk-toggleable__label-arrow:hover:before {color: black;}#sk-container-id-13 div.sk-estimator:hover label.sk-toggleable__label-arrow:before {color: black;}#sk-container-id-13 div.sk-toggleable__content {max-height: 0;max-width: 0;overflow: hidden;text-align: left;background-color: #f0f8ff;}#sk-container-id-13 div.sk-toggleable__content pre {margin: 0.2em;color: black;border-radius: 0.25em;background-color: #f0f8ff;}#sk-container-id-13 input.sk-toggleable__control:checked~div.sk-toggleable__content {max-height: 200px;max-width: 100%;overflow: auto;}#sk-container-id-13 input.sk-toggleable__control:checked~label.sk-toggleable__label-arrow:before {content: \"▾\";}#sk-container-id-13 div.sk-estimator input.sk-toggleable__control:checked~label.sk-toggleable__label {background-color: #d4ebff;}#sk-container-id-13 div.sk-label input.sk-toggleable__control:checked~label.sk-toggleable__label {background-color: #d4ebff;}#sk-container-id-13 input.sk-hidden--visually {border: 0;clip: rect(1px 1px 1px 1px);clip: rect(1px, 1px, 1px, 1px);height: 1px;margin: -1px;overflow: hidden;padding: 0;position: absolute;width: 1px;}#sk-container-id-13 div.sk-estimator {font-family: monospace;background-color: #f0f8ff;border: 1px dotted black;border-radius: 0.25em;box-sizing: border-box;margin-bottom: 0.5em;}#sk-container-id-13 div.sk-estimator:hover {background-color: #d4ebff;}#sk-container-id-13 div.sk-parallel-item::after {content: \"\";width: 100%;border-bottom: 1px solid gray;flex-grow: 1;}#sk-container-id-13 div.sk-label:hover label.sk-toggleable__label {background-color: #d4ebff;}#sk-container-id-13 div.sk-serial::before {content: \"\";position: absolute;border-left: 1px solid gray;box-sizing: border-box;top: 0;bottom: 0;left: 50%;z-index: 0;}#sk-container-id-13 div.sk-serial {display: flex;flex-direction: column;align-items: center;background-color: white;padding-right: 0.2em;padding-left: 0.2em;position: relative;}#sk-container-id-13 div.sk-item {position: relative;z-index: 1;}#sk-container-id-13 div.sk-parallel {display: flex;align-items: stretch;justify-content: center;background-color: white;position: relative;}#sk-container-id-13 div.sk-item::before, #sk-container-id-13 div.sk-parallel-item::before {content: \"\";position: absolute;border-left: 1px solid gray;box-sizing: border-box;top: 0;bottom: 0;left: 50%;z-index: -1;}#sk-container-id-13 div.sk-parallel-item {display: flex;flex-direction: column;z-index: 1;position: relative;background-color: white;}#sk-container-id-13 div.sk-parallel-item:first-child::after {align-self: flex-end;width: 50%;}#sk-container-id-13 div.sk-parallel-item:last-child::after {align-self: flex-start;width: 50%;}#sk-container-id-13 div.sk-parallel-item:only-child::after {width: 0;}#sk-container-id-13 div.sk-dashed-wrapped {border: 1px dashed gray;margin: 0 0.4em 0.5em 0.4em;box-sizing: border-box;padding-bottom: 0.4em;background-color: white;}#sk-container-id-13 div.sk-label label {font-family: monospace;font-weight: bold;display: inline-block;line-height: 1.2em;}#sk-container-id-13 div.sk-label-container {text-align: center;}#sk-container-id-13 div.sk-container {/* jupyter's `normalize.less` sets `[hidden] { display: none; }` but bootstrap.min.css set `[hidden] { display: none !important; }` so we also need the `!important` here to be able to override the default hidden behavior on the sphinx rendered scikit-learn.org. See: https://github.com/scikit-learn/scikit-learn/issues/21755 */display: inline-block !important;position: relative;}#sk-container-id-13 div.sk-text-repr-fallback {display: none;}</style><div id=\"sk-container-id-13\" class=\"sk-top-container\"><div class=\"sk-text-repr-fallback\"><pre>SVC()</pre><b>In a Jupyter environment, please rerun this cell to show the HTML representation or trust the notebook. <br />On GitHub, the HTML representation is unable to render, please try loading this page with nbviewer.org.</b></div><div class=\"sk-container\" hidden><div class=\"sk-item\"><div class=\"sk-estimator sk-toggleable\"><input class=\"sk-toggleable__control sk-hidden--visually\" id=\"sk-estimator-id-13\" type=\"checkbox\" checked><label for=\"sk-estimator-id-13\" class=\"sk-toggleable__label sk-toggleable__label-arrow\">SVC</label><div class=\"sk-toggleable__content\"><pre>SVC()</pre></div></div></div></div></div>"
     },
     "execution_count": 305,
     "metadata": {},
     "output_type": "execute_result"
    }
   ],
   "source": [
    "clf.fit(x_train,y_train)"
   ]
  },
  {
   "cell_type": "code",
   "execution_count": 306,
   "id": "74bf3948",
   "metadata": {},
   "outputs": [],
   "source": [
    "pred = clf.predict(x_test)"
   ]
  },
  {
   "cell_type": "code",
   "execution_count": 307,
   "id": "840ebee7",
   "metadata": {},
   "outputs": [
    {
     "name": "stdout",
     "output_type": "stream",
     "text": [
      "              precision    recall  f1-score   support\n",
      "\n",
      "        -1.0       0.48      0.63      0.55        19\n",
      "         1.0       0.53      0.38      0.44        21\n",
      "\n",
      "    accuracy                           0.50        40\n",
      "   macro avg       0.51      0.51      0.49        40\n",
      "weighted avg       0.51      0.50      0.49        40\n",
      "\n"
     ]
    }
   ],
   "source": [
    "print(classification_report(y_test,pred))"
   ]
  },
  {
   "cell_type": "markdown",
   "id": "9029a351",
   "metadata": {},
   "source": [
    "seventh person"
   ]
  },
  {
   "cell_type": "code",
   "execution_count": 308,
   "id": "f8b1b4fc",
   "metadata": {},
   "outputs": [],
   "source": [
    "cnt_file = open(path+'/BCICIV_calib_ds1g_cnt.txt', 'r')\n",
    "cnt = cnt_file.read()\n",
    "cnt = cnt.split()\n",
    "temp = []\n",
    "for i in cnt:\n",
    "    temp.append(float(i))\n",
    "cnt = temp"
   ]
  },
  {
   "cell_type": "code",
   "execution_count": 309,
   "id": "b8f766eb",
   "metadata": {},
   "outputs": [],
   "source": [
    "time = len(cnt)/num_channels\n",
    "cnt = np.array(cnt)\n",
    "cnt = cnt.reshape(int(time), num_channels)"
   ]
  },
  {
   "cell_type": "code",
   "execution_count": 310,
   "id": "93feda0e",
   "metadata": {},
   "outputs": [],
   "source": [
    "with open(path + '/BCICIV_calib_ds1g_mrk.txt') as file:\n",
    "    mrk = [line.rstrip() for line in file]\n",
    "pos = []\n",
    "labels = []\n",
    "temp1 = []\n",
    "temp2 = []\n",
    "for i in mrk:\n",
    "    temp1 = i.split()\n",
    "    temp2.append(temp1)\n",
    "mrk = temp2\n",
    "for i in range(len(mrk)):\n",
    "    pos.append(float(mrk[i][0]))\n",
    "    labels.append(float(mrk[i][1]))\n",
    "pos = np.array(pos)\n",
    "labels = np.array(labels)"
   ]
  },
  {
   "cell_type": "code",
   "execution_count": 311,
   "id": "a7d14cf8",
   "metadata": {},
   "outputs": [
    {
     "name": "stdout",
     "output_type": "stream",
     "text": [
      "199\n"
     ]
    }
   ],
   "source": [
    "labels = labels[:199]\n",
    "print(len(labels))"
   ]
  },
  {
   "cell_type": "code",
   "execution_count": 312,
   "id": "f1c393b5",
   "metadata": {},
   "outputs": [],
   "source": [
    "cnt=cnt.reshape(59,-1)"
   ]
  },
  {
   "cell_type": "code",
   "execution_count": 313,
   "id": "e400bd84",
   "metadata": {},
   "outputs": [
    {
     "name": "stdout",
     "output_type": "stream",
     "text": [
      "(199, 59, 953)\n"
     ]
    }
   ],
   "source": [
    "trials=np.empty([199,59,953])\n",
    "print(trials.shape)\n",
    "for i in range(0,199):\n",
    "    dum=[]\n",
    "    dum.append(cnt[:,0+(i*953):953*(i+1)])\n",
    "    trials[i]=np.array(dum)"
   ]
  },
  {
   "cell_type": "code",
   "execution_count": 314,
   "id": "2a295a1a",
   "metadata": {},
   "outputs": [],
   "source": [
    "t=np.array(trials)\n",
    "for i in range(199):\n",
    "    trials[i]=base_line(trials[i],253)"
   ]
  },
  {
   "cell_type": "code",
   "execution_count": 315,
   "id": "dbe497d8",
   "metadata": {},
   "outputs": [],
   "source": [
    "stim_data = trials[:, 0:50]\n",
    "stim_avg = np.sum(stim_data, axis=1) / stim_data.shape[1]"
   ]
  },
  {
   "cell_type": "code",
   "execution_count": 316,
   "id": "0ad48450",
   "metadata": {},
   "outputs": [],
   "source": [
    "stimloused = []\n",
    "for i in range(199):\n",
    "    dum = [stim_avg[i]] * 59\n",
    "    stimloused.append(dum)"
   ]
  },
  {
   "cell_type": "code",
   "execution_count": 317,
   "id": "86b76370",
   "metadata": {},
   "outputs": [
    {
     "data": {
      "text/plain": "(199, 59, 953)"
     },
     "execution_count": 317,
     "metadata": {},
     "output_type": "execute_result"
    }
   ],
   "source": [
    "stimloused = np.array(stimloused)\n",
    "stimloused.shape"
   ]
  },
  {
   "cell_type": "code",
   "execution_count": 318,
   "id": "da7d5eea",
   "metadata": {},
   "outputs": [
    {
     "data": {
      "text/plain": "(199, 59, 953)"
     },
     "execution_count": 318,
     "metadata": {},
     "output_type": "execute_result"
    }
   ],
   "source": [
    "sub = np.subtract(trials, stimloused)\n",
    "sub.shape"
   ]
  },
  {
   "cell_type": "code",
   "execution_count": 319,
   "id": "0e92af73",
   "metadata": {},
   "outputs": [],
   "source": [
    "final = np.sum(sub, axis=1) / sub.shape[0]"
   ]
  },
  {
   "cell_type": "code",
   "execution_count": 320,
   "id": "3f6088fd",
   "metadata": {},
   "outputs": [],
   "source": [
    "f_x = []\n",
    "for i in range(len(final)):\n",
    "    f_x.append(fourier(final[i]))"
   ]
  },
  {
   "cell_type": "code",
   "execution_count": 321,
   "id": "2e8c9f30",
   "metadata": {},
   "outputs": [],
   "source": [
    "f_x = np.array(f_x)\n",
    "mag = abs(f_x)\n",
    "power = mag**2"
   ]
  },
  {
   "cell_type": "code",
   "execution_count": 322,
   "id": "5459fb9c",
   "metadata": {},
   "outputs": [],
   "source": [
    "x_train,x_test,y_train,y_test = train_test_split(power, labels, test_size=0.2)"
   ]
  },
  {
   "cell_type": "code",
   "execution_count": 323,
   "id": "2129a57e",
   "metadata": {},
   "outputs": [
    {
     "data": {
      "text/plain": "SVC()",
      "text/html": "<style>#sk-container-id-14 {color: black;background-color: white;}#sk-container-id-14 pre{padding: 0;}#sk-container-id-14 div.sk-toggleable {background-color: white;}#sk-container-id-14 label.sk-toggleable__label {cursor: pointer;display: block;width: 100%;margin-bottom: 0;padding: 0.3em;box-sizing: border-box;text-align: center;}#sk-container-id-14 label.sk-toggleable__label-arrow:before {content: \"▸\";float: left;margin-right: 0.25em;color: #696969;}#sk-container-id-14 label.sk-toggleable__label-arrow:hover:before {color: black;}#sk-container-id-14 div.sk-estimator:hover label.sk-toggleable__label-arrow:before {color: black;}#sk-container-id-14 div.sk-toggleable__content {max-height: 0;max-width: 0;overflow: hidden;text-align: left;background-color: #f0f8ff;}#sk-container-id-14 div.sk-toggleable__content pre {margin: 0.2em;color: black;border-radius: 0.25em;background-color: #f0f8ff;}#sk-container-id-14 input.sk-toggleable__control:checked~div.sk-toggleable__content {max-height: 200px;max-width: 100%;overflow: auto;}#sk-container-id-14 input.sk-toggleable__control:checked~label.sk-toggleable__label-arrow:before {content: \"▾\";}#sk-container-id-14 div.sk-estimator input.sk-toggleable__control:checked~label.sk-toggleable__label {background-color: #d4ebff;}#sk-container-id-14 div.sk-label input.sk-toggleable__control:checked~label.sk-toggleable__label {background-color: #d4ebff;}#sk-container-id-14 input.sk-hidden--visually {border: 0;clip: rect(1px 1px 1px 1px);clip: rect(1px, 1px, 1px, 1px);height: 1px;margin: -1px;overflow: hidden;padding: 0;position: absolute;width: 1px;}#sk-container-id-14 div.sk-estimator {font-family: monospace;background-color: #f0f8ff;border: 1px dotted black;border-radius: 0.25em;box-sizing: border-box;margin-bottom: 0.5em;}#sk-container-id-14 div.sk-estimator:hover {background-color: #d4ebff;}#sk-container-id-14 div.sk-parallel-item::after {content: \"\";width: 100%;border-bottom: 1px solid gray;flex-grow: 1;}#sk-container-id-14 div.sk-label:hover label.sk-toggleable__label {background-color: #d4ebff;}#sk-container-id-14 div.sk-serial::before {content: \"\";position: absolute;border-left: 1px solid gray;box-sizing: border-box;top: 0;bottom: 0;left: 50%;z-index: 0;}#sk-container-id-14 div.sk-serial {display: flex;flex-direction: column;align-items: center;background-color: white;padding-right: 0.2em;padding-left: 0.2em;position: relative;}#sk-container-id-14 div.sk-item {position: relative;z-index: 1;}#sk-container-id-14 div.sk-parallel {display: flex;align-items: stretch;justify-content: center;background-color: white;position: relative;}#sk-container-id-14 div.sk-item::before, #sk-container-id-14 div.sk-parallel-item::before {content: \"\";position: absolute;border-left: 1px solid gray;box-sizing: border-box;top: 0;bottom: 0;left: 50%;z-index: -1;}#sk-container-id-14 div.sk-parallel-item {display: flex;flex-direction: column;z-index: 1;position: relative;background-color: white;}#sk-container-id-14 div.sk-parallel-item:first-child::after {align-self: flex-end;width: 50%;}#sk-container-id-14 div.sk-parallel-item:last-child::after {align-self: flex-start;width: 50%;}#sk-container-id-14 div.sk-parallel-item:only-child::after {width: 0;}#sk-container-id-14 div.sk-dashed-wrapped {border: 1px dashed gray;margin: 0 0.4em 0.5em 0.4em;box-sizing: border-box;padding-bottom: 0.4em;background-color: white;}#sk-container-id-14 div.sk-label label {font-family: monospace;font-weight: bold;display: inline-block;line-height: 1.2em;}#sk-container-id-14 div.sk-label-container {text-align: center;}#sk-container-id-14 div.sk-container {/* jupyter's `normalize.less` sets `[hidden] { display: none; }` but bootstrap.min.css set `[hidden] { display: none !important; }` so we also need the `!important` here to be able to override the default hidden behavior on the sphinx rendered scikit-learn.org. See: https://github.com/scikit-learn/scikit-learn/issues/21755 */display: inline-block !important;position: relative;}#sk-container-id-14 div.sk-text-repr-fallback {display: none;}</style><div id=\"sk-container-id-14\" class=\"sk-top-container\"><div class=\"sk-text-repr-fallback\"><pre>SVC()</pre><b>In a Jupyter environment, please rerun this cell to show the HTML representation or trust the notebook. <br />On GitHub, the HTML representation is unable to render, please try loading this page with nbviewer.org.</b></div><div class=\"sk-container\" hidden><div class=\"sk-item\"><div class=\"sk-estimator sk-toggleable\"><input class=\"sk-toggleable__control sk-hidden--visually\" id=\"sk-estimator-id-14\" type=\"checkbox\" checked><label for=\"sk-estimator-id-14\" class=\"sk-toggleable__label sk-toggleable__label-arrow\">SVC</label><div class=\"sk-toggleable__content\"><pre>SVC()</pre></div></div></div></div></div>"
     },
     "execution_count": 323,
     "metadata": {},
     "output_type": "execute_result"
    }
   ],
   "source": [
    "clf.fit(x_train,y_train)"
   ]
  },
  {
   "cell_type": "code",
   "execution_count": 324,
   "id": "5ac3d373",
   "metadata": {},
   "outputs": [],
   "source": [
    "pred = clf.predict(x_test)"
   ]
  },
  {
   "cell_type": "code",
   "execution_count": 325,
   "id": "aa961cae",
   "metadata": {},
   "outputs": [
    {
     "name": "stdout",
     "output_type": "stream",
     "text": [
      "              precision    recall  f1-score   support\n",
      "\n",
      "        -1.0       0.39      0.71      0.50        17\n",
      "         1.0       0.44      0.17      0.25        23\n",
      "\n",
      "    accuracy                           0.40        40\n",
      "   macro avg       0.42      0.44      0.38        40\n",
      "weighted avg       0.42      0.40      0.36        40\n",
      "\n"
     ]
    }
   ],
   "source": [
    "print(classification_report(y_test,pred))"
   ]
  },
  {
   "cell_type": "code",
   "execution_count": 325,
   "id": "5f8c6d20",
   "metadata": {},
   "outputs": [],
   "source": []
  }
 ],
 "metadata": {
  "kernelspec": {
   "display_name": "Python 3 (ipykernel)",
   "language": "python",
   "name": "python3"
  },
  "language_info": {
   "codemirror_mode": {
    "name": "ipython",
    "version": 3
   },
   "file_extension": ".py",
   "mimetype": "text/x-python",
   "name": "python",
   "nbconvert_exporter": "python",
   "pygments_lexer": "ipython3",
   "version": "3.9.13"
  }
 },
 "nbformat": 4,
 "nbformat_minor": 5
}